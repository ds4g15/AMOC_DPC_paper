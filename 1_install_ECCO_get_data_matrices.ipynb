{
 "cells": [
  {
   "cell_type": "markdown",
   "id": "5668dfc7-3114-41ca-bf91-ec50274740c5",
   "metadata": {},
   "source": [
    "# 0. Installing MITgcm in the ECCO configuration\n",
    "The ECCO configuration of the MITgcm is the basis for all of our results. While it is not necessary to install and run the model to obtain the forcing data matrices (which can be calculated straight from the model input files), it is needed to obtain adjoint sensitivity matrices, and, ultimately, the DPC--EDF decomposition, as well as being used to test the model response to EDF patterns.\n",
    "\n",
    "Full instructions on installing the model can be found in `ECCO_adjoint_instructions.pdf`."
   ]
  },
  {
   "cell_type": "markdown",
   "id": "4b75e96f-b09e-43d3-8ab2-c285edd0ffe9",
   "metadata": {
    "tags": []
   },
   "source": [
    "# 1. Obtaining ECCO forcing files and calculating associated data matrices and EOF/PC decomposition\n",
    "\n",
    "As the DPC--EDF method requires information from both a forcing data matrix and an adjoint sensitivity matrix, we begin by obtaining the forcing data matrix directly from the ECCOv4r4 forcing files. These files are in the binary \"MDS\" format used by MITgcm, with one file per year, at 6 hourly frequency (1460 entries for non-leap years, 1464 entries for leap years).\n",
    "\n",
    "We will eventually use these files to re-run the (flux-forced) ECCO state estimate, so it is worth downloading all ECCOv4r4 forcing files. The process is described in Section 2.5.1 of `ECCO_adjoint_instructions.pdf`, but is recapped here. The download requires a podaac account and 210GB of storage space. The following command on Linux-based systems will obtain the necessary files. Change `<YOUR_USERNAME>` for your podaac username.\n",
    "\n",
    "```\n",
    "wget -r --no-parent --user <YOUR_USERNAME> --ask-password \\\n",
    "https://ecco.jpl.nasa.gov/drive/files/Version4/Release4/other\n",
    "mv ecco.jpl.nasa.gov/drive/files/Version4/Release4/other/ .\n",
    "rm -r ecco.jpl.nasa.gov/\n",
    "```\n",
    "\n",
    "We also want the file `ECCO-GRID.nc` which contains information about the LLC90 grid on which the state estimate is run.\n",
    "\n",
    "```\n",
    "wget -r --no-parent --user <YOUR_USERNAME> --ask-password \\\n",
    "https://ecco.jpl.nasa.gov/drive/files/Version4/Release4/nctiles_grid/ECCO-GRID.nc\n",
    "mv ecco.jpl.nasa.gov/drive/files/Version4/Release4/nctiles_grid/ECCO-GRID.nc .\n",
    "rm -r ecco.jpl.nasa.gov/\n",
    "```\n",
    "\n",
    "We will use the function `get_ecco_forcing` from the attached `DPC_functions.py` to load the `hflux` (net heat flux, Wm⁻², positive out of the ocean),`oceTAUX`, and `oceTAUY` (x-oriented and y-oriented -not zonal and meridional- wind stress, Nm⁻²) variables used in part to force the flux-forced simulation. This function returns the raw forcing and a climatology calculated from it. The function `forcing_anom` takes these two outputs and diagnoses the anomaly data matrix used to calculate EOFs and PCs."
   ]
  },
  {
   "cell_type": "code",
   "execution_count": null,
   "id": "1c56b8fe-1180-4d92-be6c-f1e1860b5bc5",
   "metadata": {},
   "outputs": [],
   "source": [
    "from DPC_functions import *"
   ]
  },
  {
   "cell_type": "markdown",
   "id": "1b4f3ab4-2a4d-4d1a-b855-0831873607ae",
   "metadata": {},
   "source": [
    "## Get the heat flux data matrix"
   ]
  },
  {
   "cell_type": "code",
   "execution_count": 2,
   "id": "675c6ed2-1d93-43f2-b1c5-2499939b1a2f",
   "metadata": {},
   "outputs": [
    {
     "name": "stdout",
     "output_type": "stream",
     "text": [
      "Year :1992, 4.53e-06  seconds elapsed\n",
      "Year :1993, 3.42  seconds elapsed\n",
      "Year :1994, 6.51  seconds elapsed\n",
      "Year :1995, 9.63  seconds elapsed\n",
      "Year :1996, 12.9  seconds elapsed\n",
      "Year :1997, 16  seconds elapsed\n",
      "Year :1998, 19.1  seconds elapsed\n",
      "Year :1999, 22  seconds elapsed\n",
      "Year :2000, 24.5  seconds elapsed\n",
      "Year :2001, 27.2  seconds elapsed\n",
      "Year :2002, 30  seconds elapsed\n",
      "Year :2003, 33  seconds elapsed\n",
      "Year :2004, 36.1  seconds elapsed\n",
      "Year :2005, 39.8  seconds elapsed\n",
      "Year :2006, 43.6  seconds elapsed\n",
      "Year :2007, 46.3  seconds elapsed\n",
      "Year :2008, 49  seconds elapsed\n",
      "Year :2009, 51.8  seconds elapsed\n",
      "Year :2010, 56.3  seconds elapsed\n",
      "Year :2011, 59.4  seconds elapsed\n",
      "Year :2012, 62.6  seconds elapsed\n",
      "Year :2013, 65.6  seconds elapsed\n",
      "Year :2014, 68.4  seconds elapsed\n",
      "Year :2015, 71.1  seconds elapsed\n",
      "Year :2016, 74  seconds elapsed\n",
      "Year :2017, 77.7  seconds elapsed\n"
     ]
    }
   ],
   "source": [
    "# forcingdir='/where/you/downloaded/ECCO/files/other/flux-forced/forcing/'\n",
    "forcingdir='/glade/work/dafydd/ECCOv4r4_input/other/flux-forced/forcing/'\n",
    "hflux_X,hflux_X_clim=get_ecco_forcing('TFLUX',forcing_dir=forcingdir,show_progress=True)\n",
    "hflux_X=forcing_anom(hflux_X,hflux_X_clim)"
   ]
  },
  {
   "cell_type": "markdown",
   "id": "766cad06-593a-4068-8003-6c1e08e4f4e8",
   "metadata": {},
   "source": [
    "## Reduce the spatial dimensions of the data matrix to the Atlantic in [-35,80]°N \n",
    "We use the indexing variable `Ti` which is calculated in `DPC_functions`. This reduces the heat flux anomaly data matrix to shape (37988,10469) [time x space]"
   ]
  },
  {
   "cell_type": "code",
   "execution_count": 3,
   "id": "d27fca12-9724-4ae6-b587-a4cb5c03e525",
   "metadata": {},
   "outputs": [
    {
     "name": "stdout",
     "output_type": "stream",
     "text": [
      "(37988, 10469)\n"
     ]
    }
   ],
   "source": [
    "hflux_X=hflux_X.reshape(-1,13*90*90)[:,Ti]\n",
    "print(hflux_X.shape)"
   ]
  },
  {
   "cell_type": "code",
   "execution_count": 4,
   "id": "87409c0d-f5a0-4872-90cc-eabeab93fea6",
   "metadata": {},
   "outputs": [],
   "source": [
    "np.save(forcingdir+'hflux_anomaly_data_matrix.npy')"
   ]
  },
  {
   "cell_type": "markdown",
   "id": "ddae1d53-83c5-434c-a06d-2783666f2408",
   "metadata": {},
   "source": [
    "## Calculate EOFs as the eigendecomposition of the covariance matrix XᵀX"
   ]
  },
  {
   "cell_type": "code",
   "execution_count": 5,
   "id": "714fffbf-591b-41a9-983c-83edad7fcd4d",
   "metadata": {},
   "outputs": [
    {
     "name": "stderr",
     "output_type": "stream",
     "text": [
      "<timed exec>:2: RuntimeWarning: k >= N for N * N square matrix. Attempting to use scipy.linalg.eigh instead.\n"
     ]
    },
    {
     "name": "stdout",
     "output_type": "stream",
     "text": [
      "CPU times: user 4min 6s, sys: 1.65 s, total: 4min 7s\n",
      "Wall time: 4min 14s\n"
     ]
    }
   ],
   "source": [
    "%%time\n",
    "hflux_C = ( 1/len(hflux_X) ) * (hflux_X.T).dot(hflux_X)\n",
    "hflux_λ,hflux_EOFs=la.eigsh(hflux_C,k=10469)"
   ]
  },
  {
   "cell_type": "code",
   "execution_count": 6,
   "id": "8805512a-bc11-47d1-96d0-b02b46a00be6",
   "metadata": {},
   "outputs": [
    {
     "name": "stdout",
     "output_type": "stream",
     "text": [
      "CPU times: user 1min 24s, sys: 1.49 s, total: 1min 25s\n",
      "Wall time: 1min 28s\n"
     ]
    }
   ],
   "source": [
    "%%time\n",
    "hflux_PCs=hflux_X.dot(hflux_EOFs)/np.sqrt(hflux_λ*len(hflux_X))"
   ]
  },
  {
   "cell_type": "code",
   "execution_count": 13,
   "id": "2d8a66b6-6fee-4668-b5e5-a56420b38e2c",
   "metadata": {},
   "outputs": [],
   "source": [
    "np.save(forcingdir+'hflux_eigenvalues.npy' ,hflux_λ)\n",
    "np.save(forcingdir+'hflux_eigenvectors.npy',hflux_EOFs)"
   ]
  },
  {
   "cell_type": "markdown",
   "id": "a2ae5e1b-7615-4895-a462-c725d2041404",
   "metadata": {},
   "source": [
    "## As above, for wind stress\n",
    "We concatenate the two variables `oceTAUX` and `oceTAUY` into a single data matrix:"
   ]
  },
  {
   "cell_type": "code",
   "execution_count": 8,
   "id": "f27d2366-1ca4-48ff-bdf1-8be8ab620c94",
   "metadata": {},
   "outputs": [
    {
     "name": "stdout",
     "output_type": "stream",
     "text": [
      "CPU times: user 1min 53s, sys: 1min 31s, total: 3min 25s\n",
      "Wall time: 3min 56s\n"
     ]
    }
   ],
   "source": [
    "%%time\n",
    "#forcingdir='</where/you/downloaded/ECCO/files>/other/flux-forced/forcing/'\n",
    "forcingdir='/glade/work/dafydd/ECCOv4r4_input/other/flux-forced/forcing'\n",
    "taux_X,taux_X_clim=get_ecco_forcing('oceTAUX',forcing_dir=forcingdir,show_progress=False)\n",
    "taux_X=forcing_anom(taux_X,taux_X_clim)\n",
    "taux_X=taux_X.reshape(-1,13*90*90)[:,Ui]\n",
    "\n",
    "tauy_X,tauy_X_clim=get_ecco_forcing('oceTAUY',forcing_dir=forcingdir,show_progress=False)\n",
    "tauy_X=forcing_anom(tauy_X,tauy_X_clim)\n",
    "tauy_X=tauy_X.reshape(-1,13*90*90)[:,Vi]\n",
    "\n",
    "tauxy_X=np.hstack([taux_X,tauy_X])"
   ]
  },
  {
   "cell_type": "code",
   "execution_count": null,
   "id": "14a7e579-8a37-4fcd-9950-845cb2672be7",
   "metadata": {},
   "outputs": [],
   "source": [
    "np.save(forcingdir+'tauxy_anomaly_data_matrix.npy',tauxy_X)"
   ]
  },
  {
   "cell_type": "code",
   "execution_count": 9,
   "id": "798099ca-417c-40ef-9f3c-68e3c7c7cf72",
   "metadata": {},
   "outputs": [
    {
     "name": "stderr",
     "output_type": "stream",
     "text": [
      "<timed exec>:2: RuntimeWarning: k >= N for N * N square matrix. Attempting to use scipy.linalg.eigh instead.\n"
     ]
    },
    {
     "name": "stdout",
     "output_type": "stream",
     "text": [
      "CPU times: user 31min 44s, sys: 11.2 s, total: 31min 55s\n",
      "Wall time: 32min 58s\n"
     ]
    }
   ],
   "source": [
    "%%time\n",
    "tauxy_C = ( 1/len(tauxy_X) ) * (tauxy_X.T).dot(tauxy_X)\n",
    "tauxy_λ,tauxy_EOFs=la.eigsh(tauxy_C,k=20280)\n",
    "tauxy_PCs=tauxy_X.dot(tauxy_EOFs)/np.sqrt(tauxy_λ*len(tauxy_X))"
   ]
  },
  {
   "cell_type": "code",
   "execution_count": 15,
   "id": "6ae7ffc6-4245-4bcc-80fe-0629e43aedab",
   "metadata": {},
   "outputs": [],
   "source": [
    "np.save(forcingdir+'tauxy_eigenvalues.npy' ,tauxy_λ)\n",
    "np.save(forcingdir+'tauxy_eigenvectors.npy',tauxy_EOFs)"
   ]
  }
 ],
 "metadata": {
  "kernelspec": {
   "display_name": "Python [conda env:miniconda3-oce2]",
   "language": "python",
   "name": "conda-env-miniconda3-oce2-py"
  },
  "language_info": {
   "codemirror_mode": {
    "name": "ipython",
    "version": 3
   },
   "file_extension": ".py",
   "mimetype": "text/x-python",
   "name": "python",
   "nbconvert_exporter": "python",
   "pygments_lexer": "ipython3",
   "version": "3.12.2"
  }
 },
 "nbformat": 4,
 "nbformat_minor": 5
}
